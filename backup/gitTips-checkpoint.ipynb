{
 "cells": [
  {
   "cell_type": "markdown",
   "metadata": {},
   "source": [
    "#git安装总结（ubuntu)"
   ]
  },
  {
   "cell_type": "markdown",
   "metadata": {},
   "source": [
    "1、安装sudo apt-get install git\n",
    " 查看 git版本： git --version"
   ]
  },
  {
   "cell_type": "markdown",
   "metadata": {},
   "source": [
    "2、创建本地秘钥（用于后面ssh方式提交代码）\n",
    "ssh-keygen -t rsa -C \"your_email@youremail.com\" \n",
    "三次回车：安装到默认目录\n",
    "       不设置密码：（设置后每次提交都要输入密码）"
   ]
  },
  {
   "cell_type": "markdown",
   "metadata": {},
   "source": [
    "3、登录github ，将公钥（.pub)添加到SSHKeys"
   ]
  },
  {
   "cell_type": "markdown",
   "metadata": {},
   "source": [
    "4、git 设置本地用户名和邮箱\n",
    "（github的用户名和邮箱）\n",
    "git config --global user.name \"your name\"  \n",
    "git config --global user.email test@runoob.com"
   ]
  },
  {
   "cell_type": "markdown",
   "metadata": {},
   "source": [
    "5、初始化本地文件夹：\n",
    "    方式一：cd 进入目录 ，执行git init\n",
    "    方式二：git init 目录名"
   ]
  },
  {
   "cell_type": "markdown",
   "metadata": {},
   "source": [
    "6、本地文件夹和github 库关联：\n",
    "<1> github创建仓库hahaha之后,把github上的git下载到本地 git clone git@github.com:username/hahaha.git \n",
    "<2> github创建hahaha，把本地的库hahaha与github上的git关联 git remote add origin git@github.com:username/hahaha.git\n",
    "<3> 把本地的东西都推上去 git push -u origin master/ \n",
    " <4>   把上面的都下下来 git pull\n"
   ]
  },
  {
   "cell_type": "markdown",
   "metadata": {},
   "source": [
    "7、代码提交：\n",
    "<1>执行git add .，将本地的工程目录（包括子文件）都添加到本地的git仓库\n",
    "\n",
    "<2>执行git commit -m \"write some comment\"，将本地的工程提交到本地的git仓库\n",
    "\n",
    "<3>执行git remote add origin [github_repository_url]，将本地仓库与github上的仓库关联起来。\n",
    "可以通过git remote -v查看github上的仓库地址。\n",
    "\n",
    "<4>执行git pull origin master同步github仓库和本地仓库\n",
    "<5>执行git push origin master将本地工程提交到github"
   ]
  }
 ],
 "metadata": {
  "kernelspec": {
   "display_name": "Python 3",
   "language": "python",
   "name": "python3"
  },
  "language_info": {
   "codemirror_mode": {
    "name": "ipython",
    "version": 3
   },
   "file_extension": ".py",
   "mimetype": "text/x-python",
   "name": "python",
   "nbconvert_exporter": "python",
   "pygments_lexer": "ipython3",
   "version": "3.6.5"
  }
 },
 "nbformat": 4,
 "nbformat_minor": 2
}
