{
 "cells": [
  {
   "cell_type": "markdown",
   "metadata": {},
   "source": [
    "##Qt踩坑Log"
   ]
  },
  {
   "cell_type": "markdown",
   "metadata": {},
   "source": [
    "###线程\n",
    "1‘ 利用 MovetoThread()函数开启线程\n",
    "class 构造函数：\n",
    "QThread *pThread=new QThread;\n",
    "this->movetoThread(pThread);\n",
    "pThread->start();\n",
    "//信号注册\n",
    "connect(this,SIGNAL(sig_begin()),this,SLOT(slot_begin()));\n",
    "sig_begin() 和slot_begin（）为自定义信号和槽\n",
    "在**槽中**开始处理开始要在线程中的操作()\n",
    "这样class才会在新线程中执行\n",
    "2’线程之间信号传递参数时不能是**引用(&)** 如 sig_data(const QString &str)->传递的是str的地址，内存中只有一份str\n",
    "线程与线程之间并行，若str在发送信号线程中为局部变量（如函数内部），则有可能 str已经销毁，而信号接受者线程仍在使用,此时程序崩溃\n",
    "3’ QmutexLock 方式加锁时，\n",
    " QMutex  mutex;\n",
    " void fun()\n",
    " {\n",
    " QMutexLock lock(&mutex);//自动执行mutex的 lock 和unlock\n",
    "  fun1();\n",
    "  fun2();\n",
    " }\n",
    " void fun1()\n",
    " {\n",
    " QMutexLock lock(&mutex);//应该去掉\n",
    " ....\n",
    " }\n",
    " 此种情况**死锁**"
   ]
  },
  {
   "cell_type": "markdown",
   "metadata": {},
   "source": [
    "**在循环中用打印信息如qDebug()<<\"xxx\"<<endl;非常耗时间**,在循环次数很多时非常明显\n",
    "for(int i=0;i<100000;i++)\n",
    "{\n",
    "    .....\n",
    "    qDebug()<<\"xxx\"<<endl;\n",
    "    ............\n",
    "}"
   ]
  },
  {
   "cell_type": "markdown",
   "metadata": {},
   "source": [
    "执行大量SQl语句时，用**事务**快很多，将sql语句放在容器（如vector)在一起执行，速度很快\n",
    " m_dataBase.transaction();//开启事务\n",
    "    QString strSql;\n",
    "    for(int iNum=0;iNum<10;iNum++)\n",
    "    {\n",
    "        strSql=QString(\"insert into user values(\\\"%1\\\",\\\"%2\\\",\\\"%3\\\")\")\n",
    "                .arg(iNum+1)\n",
    "                .arg(\"#$#\")\n",
    "                .arg(\"123\");\n",
    "        m_dataBase.exec(strSql);\n",
    "    }\n",
    "    m_dataBase.commit();//提交"
   ]
  },
  {
   "cell_type": "code",
   "execution_count": null,
   "metadata": {},
   "outputs": [],
   "source": [
    "当数据量较大时，QByteArray mid()或者 indexof() 效率较慢，亲测 QbyteArray 放入4*1024*1024bytes（4M）流数据时根据开始标志和长度截取数据包 \n",
    "处理时间大于循环4次每次处理1024*1024（1M）数据"
   ]
  }
 ],
 "metadata": {
  "kernelspec": {
   "display_name": "Python 3",
   "language": "python",
   "name": "python3"
  },
  "language_info": {
   "codemirror_mode": {
    "name": "ipython",
    "version": 3
   },
   "file_extension": ".py",
   "mimetype": "text/x-python",
   "name": "python",
   "nbconvert_exporter": "python",
   "pygments_lexer": "ipython3",
   "version": "3.6.5"
  }
 },
 "nbformat": 4,
 "nbformat_minor": 2
}
